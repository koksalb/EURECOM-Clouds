{
 "cells": [
  {
   "cell_type": "markdown",
   "metadata": {},
   "source": [
    "2017 Edition"
   ]
  },
  {
   "cell_type": "markdown",
   "metadata": {},
   "source": [
    "In this notebook, we will learn how to use the DataFrame API and SparkSQL to perform simple data analytics tasks.\n",
    "\n",
    "# Goals\n",
    "The main goals of this notebook are the following:\n",
    "1. Understand the advantages and disadvantages of using DataFrame over RDD\n",
    "2. Analyze the airline data with the DataFrame API and SparkSQL\n",
    "\n",
    "# Steps\n",
    "\n",
    "- First, in section 1, we will go through a short introduction about the DataFrame API with a small example to see how can we use it and how it compares to the low-level RDD abstraction.\n",
    "- In section 2, we delve into the details of the use case of this notebook including: providing the context, introducing the data\n",
    "- In section 3, we perform data exploration and analysis"
   ]
  },
  {
   "cell_type": "markdown",
   "metadata": {},
   "source": [
    "# 1. RDD and DataFrame APIs"
   ]
  },
  {
   "cell_type": "markdown",
   "metadata": {},
   "source": [
    "In our previous notebooks, we have worked with RDDs (Resilient Distributed Dataset), the basic abstraction in Spark. The main reason is due to the task at hand: we have been invovled in the design of distributed algorithms.\n",
    "\n",
    "In this laboratory session, we study (or revisit) the DataFrame API - an immutable distributed collection of data.\n",
    "DataFrames allow developers to impose a **structure** on a distributed collection of data, allowing higher-level abstraction; in addition, DataFrames provide a domain specific language (DSL) API to manipulate distributed, structured data. Ultimately, the goal is to make Spark accessible to a wider audience, beyond researchers and specialized data engineers.\n",
    "\n",
    "Let's take a small example to see the difference between RDDs and DataFrames. The two cells below contain short code snippets that perform the same task: count the frequency of words in a document, then sort the result in descending order. The first snippet is the same you have been working on in the very [first notebook](https://github.com/EURECOM-CLOUDS-COURSE/Introduction/blob/master/introduction-lab.ipynb) of the CLOUDS course.\n",
    "The second code snippet uses the DataFrame API."
   ]
  },
  {
   "cell_type": "code",
   "execution_count": 2,
   "metadata": {},
   "outputs": [],
   "source": [
    "import time\n",
    "from pyspark.sql.types import *\n",
    "from pyspark.sql import SQLContext\n",
    "from pyspark.sql.functions import explode, split, desc"
   ]
  },
  {
   "cell_type": "markdown",
   "metadata": {},
   "source": [
    "<div class=\"alert alert-block alert-info\">\n",
    "\n",
    "<strong>Question 1.</strong> \n",
    "\n",
    "Run both approaches (RDD and DataFrame) detailed below, compare their runtime, and discuss. Is the DataFrame API approach faster? Can you explain why?\n",
    "\n",
    "</div>"
   ]
  },
  {
   "cell_type": "code",
   "execution_count": 3,
   "metadata": {},
   "outputs": [],
   "source": [
    "from pyspark import SparkContext\n",
    "sc =SparkContext()"
   ]
  },
  {
   "cell_type": "code",
   "execution_count": 4,
   "metadata": {
    "collapsed": true
   },
   "outputs": [
    {
     "name": "stdout",
     "output_type": "stream",
     "text": [
      "Runtime: 40.391807079315186s\n",
      "[(14248, 'the'), (10019, 'and'), (8660, 'of'), (8390, 'to'), (7223, 'a')]\n"
     ]
    }
   ],
   "source": [
    "time_start = time.time()\n",
    "words = (\n",
    "            # read the text file\n",
    "            #sc.textFile(\"/datasets/gutenberg/gutenberg_small.txt\").repartition(16)\n",
    "    \n",
    "            sc.textFile(\"../datasets/Gutenberg/txt/Charles Dickens___Life And Adventures Of Martin Chuzzlewit.txt\").repartition(16)\n",
    "            # construct words from lines\n",
    "            .flatMap(lambda line: line.split())\n",
    "            \n",
    "            # map each word to (word, 1)\n",
    "            .map(lambda x: (x, 1))\n",
    "    \n",
    "            # reduce by key: accumulate sum the freq of the same word\n",
    "            .reduceByKey(lambda freq1, freq2: freq1 + freq2)\n",
    "            \n",
    "            # swap (word, freq) to (freq, word)\n",
    "            .map(lambda x: (x[1], x[0]))\n",
    "    \n",
    "            # sort result by key DESC\n",
    "            .sortByKey(False)\n",
    "         )\n",
    "print(\"Runtime: {}s\".format(time.time() - time_start))\n",
    "print(words.take(5))"
   ]
  },
  {
   "cell_type": "code",
   "execution_count": 5,
   "metadata": {
    "collapsed": true
   },
   "outputs": [
    {
     "name": "stdout",
     "output_type": "stream",
     "text": [
      "+----+-----+\n",
      "|word|count|\n",
      "+----+-----+\n",
      "| the|14248|\n",
      "| and|10019|\n",
      "|  of| 8660|\n",
      "|  to| 8390|\n",
      "|    | 7443|\n",
      "+----+-----+\n",
      "only showing top 5 rows\n",
      "\n",
      "Runtime: 3.745347499847412s\n"
     ]
    }
   ],
   "source": [
    "sqlContext = SQLContext(sc)\n",
    "time_start = time.time()\n",
    "\n",
    "# read the text file\n",
    "#df = sqlContext.read.text(\"/datasets/gutenberg/gutenberg_small.txt\")\n",
    "\n",
    "df = sqlContext.read.text(\"../datasets/Gutenberg/txt/Charles Dickens___Life And Adventures Of Martin Chuzzlewit.txt\")\n",
    "# show 3 samples\n",
    "# df.show(3)\n",
    "\n",
    "result = (\n",
    "    # split into words\n",
    "    df.select(explode(split(df.value, \"\\s+|\\t+\")).alias('word'))\n",
    "    \n",
    "    # group by each word\n",
    "    .groupBy(['word'])\n",
    "    \n",
    "    # count the freq\n",
    "    .count()\n",
    "    \n",
    "    # sort the result\n",
    "    .orderBy(desc(\"count\"))\n",
    ")\n",
    "\n",
    "result.show(5)\n",
    "print(\"Runtime: {}s\".format(time.time() - time_start))"
   ]
  },
  {
   "cell_type": "markdown",
   "metadata": {},
   "source": [
    "# 2. Analysis of flight data using the DataFrame API and SparkSQL\n",
    "\n",
    "## Use case\n",
    "\n",
    "In this notebook, we play the role of a data scientist working in the travel industry, specifically on air transportation of passengers. We want to explore the data collected by the Department of Transportation (DoT) to understand passengers' behavior, as well as the properties of all flights, across several airline companies.\n",
    "\n",
    "The dataset provided by the DoT has 29 features, that can be either categorical or numerical. For example, the ```src_airport``` (source airport) is categorical: there exist no comparison operator between airport names. We can not say \"SGN is bigger than NCE\". The ```departure_time``` feature is numerical, for which a comparison operator exists. For instance, \"flight departing before 6PM\" can be express by \"departure_time < 1800\".\n",
    "\n",
    "In this use case, most features are numerical, except carrier, flight_number, cancelled, cancelation_code and diverted. \n",
    "The data contains a header, that is useless when analyzing the data: it serves the purpose of an \"embedded schema\", to help data scientist figure out what information is available. Note that there are some features with missing values in some lines of the dataset. The missing values are marked by \"NA\". These values can cause problems when processing the data and can lead to unexpected results. Therefore, we need to remove the header and replace all \"NA\" values by empty values, such as they can be interpreted as null values.\n",
    "\n",
    "## DataFrame\n",
    "As we have seen already, there are multiple ways to manipulate data:\n",
    "\n",
    "- Using the RDD abstraction\n",
    "\n",
    "- Using the DataFrame abstraction. \n",
    "\n",
    "A DataFrame is a distributed collection of data organized into named columns. It is based on the data frame concept in R language or in Pandas for Python. In some sense, it is similar to a table in a relational database: each item is a list of values (the columns). Also, the value in each row of each column can be accessed by the column's name.\n",
    "\n",
    "To use DataFrames, the data should be clean (no invalid values). That means we cannot create DataFrame directly from the \"RAW\" data. Instead, we will first create an RDD from RAW data, produce a new, clean RDD, then transform it to a DataFrame and work on it. The RDD `cleaned_data` is an RDD[String]. We need to transform it to RDD[(TypeOfColumn1, TypeOfColumn2, ..., TypeOfColumn29)] then call a function to create a DataFrame from the new RDD. Please note that, package com.databricks.spark.csv can really help us to load the data efficiently without concerns about parsing, conversions, etc... However, the CSV package can have some problems when loading not well-formatted data or the data that has many kinds of missing values. The guidelines defined this notebook are a general way to help you work with any data.\n",
    "\n",
    "\n",
    "DataFrames can be constructed from a wide array of sources such as: structured data files, tables in Hive, external databases, or existing RDDs.\n",
    "\n",
    "During the labs in this course, we will mainly work with CSV data files. So, in the next sections, we only focus on constructing dataframes from structured data files directly and from existing RDD.\n",
    "\n",
    "### Constructing a DataFrame directly from structured data file\n",
    "\n",
    "To construct DataFrame from a structured file directly, the file type must be supported. Currently, Spark supports csv, json, avro and many more. Among these types, the csv type is one of the most popular in data analytics. A DataFrame is constructed from csv files by using the package spark-csv from Databricks.\n"
   ]
  },
  {
   "cell_type": "code",
   "execution_count": 3,
   "metadata": {
    "collapsed": true
   },
   "outputs": [],
   "source": [
    "from pyspark.sql import SQLContext\n",
    "from pyspark.sql.types import *\n",
    "\n",
    "sqlContext = SQLContext(sc)\n",
    "\n",
    "df = sqlContext.read.load('../datasets/airline/1994.csv', \n",
    "    format='com.databricks.spark.csv', \n",
    "    header='true', \n",
    "    inferSchema='true',\n",
    "    nullValue='NA'\n",
    ")"
   ]
  },
  {
   "cell_type": "markdown",
   "metadata": {},
   "source": [
    "Using the function load parametrized with `com.databricks.spark.csv`, we ask the SqlContext to use the parser from the DataBricks package. Additionally, we can specify whether the file has a header, or ask the parser to guess the data type of columns automatically. The parsed data types is viewed using the function printSchema."
   ]
  },
  {
   "cell_type": "code",
   "execution_count": 4,
   "metadata": {
    "collapsed": true
   },
   "outputs": [
    {
     "name": "stdout",
     "output_type": "stream",
     "text": [
      "root\n",
      " |-- Year: integer (nullable = true)\n",
      " |-- Month: integer (nullable = true)\n",
      " |-- DayofMonth: integer (nullable = true)\n",
      " |-- DayOfWeek: integer (nullable = true)\n",
      " |-- DepTime: integer (nullable = true)\n",
      " |-- CRSDepTime: integer (nullable = true)\n",
      " |-- ArrTime: integer (nullable = true)\n",
      " |-- CRSArrTime: integer (nullable = true)\n",
      " |-- UniqueCarrier: string (nullable = true)\n",
      " |-- FlightNum: integer (nullable = true)\n",
      " |-- TailNum: string (nullable = true)\n",
      " |-- ActualElapsedTime: integer (nullable = true)\n",
      " |-- CRSElapsedTime: integer (nullable = true)\n",
      " |-- AirTime: string (nullable = true)\n",
      " |-- ArrDelay: integer (nullable = true)\n",
      " |-- DepDelay: integer (nullable = true)\n",
      " |-- Origin: string (nullable = true)\n",
      " |-- Dest: string (nullable = true)\n",
      " |-- Distance: integer (nullable = true)\n",
      " |-- TaxiIn: string (nullable = true)\n",
      " |-- TaxiOut: string (nullable = true)\n",
      " |-- Cancelled: integer (nullable = true)\n",
      " |-- CancellationCode: string (nullable = true)\n",
      " |-- Diverted: integer (nullable = true)\n",
      " |-- CarrierDelay: string (nullable = true)\n",
      " |-- WeatherDelay: string (nullable = true)\n",
      " |-- NASDelay: string (nullable = true)\n",
      " |-- SecurityDelay: string (nullable = true)\n",
      " |-- LateAircraftDelay: string (nullable = true)\n",
      "\n"
     ]
    }
   ],
   "source": [
    "# print(df.dtypes)\n",
    "df.printSchema()"
   ]
  },
  {
   "cell_type": "markdown",
   "metadata": {},
   "source": [
    "As you can see, the automatically inferred data types are **not** as expected. For example, we expect that CRSDepTime to be of interger type. The type and the name of each column can be modified using function ```withColumn``` and ```withColumnRename``` respectively. Additionally, we can also compute and print basic descriptive statistics of numerical columns via the function ```describe``` (similar to Pandas)."
   ]
  },
  {
   "cell_type": "code",
   "execution_count": 5,
   "metadata": {
    "collapsed": true
   },
   "outputs": [
    {
     "name": "stdout",
     "output_type": "stream",
     "text": [
      "root\n",
      " |-- Year: integer (nullable = true)\n",
      " |-- Month: integer (nullable = true)\n",
      " |-- DayofMonth: integer (nullable = true)\n",
      " |-- DayOfWeek: integer (nullable = true)\n",
      " |-- DepTime: integer (nullable = true)\n",
      " |-- scheduled_departure_time: integer (nullable = true)\n",
      " |-- ArrTime: integer (nullable = true)\n",
      " |-- CRSArrTime: integer (nullable = true)\n",
      " |-- UniqueCarrier: string (nullable = true)\n",
      " |-- FlightNum: integer (nullable = true)\n",
      " |-- TailNum: string (nullable = true)\n",
      " |-- ActualElapsedTime: integer (nullable = true)\n",
      " |-- CRSElapsedTime: integer (nullable = true)\n",
      " |-- AirTime: string (nullable = true)\n",
      " |-- ArrDelay: integer (nullable = true)\n",
      " |-- DepDelay: integer (nullable = true)\n",
      " |-- Origin: string (nullable = true)\n",
      " |-- Dest: string (nullable = true)\n",
      " |-- Distance: integer (nullable = true)\n",
      " |-- TaxiIn: string (nullable = true)\n",
      " |-- TaxiOut: string (nullable = true)\n",
      " |-- Cancelled: integer (nullable = true)\n",
      " |-- CancellationCode: string (nullable = true)\n",
      " |-- Diverted: integer (nullable = true)\n",
      " |-- CarrierDelay: string (nullable = true)\n",
      " |-- WeatherDelay: string (nullable = true)\n",
      " |-- NASDelay: string (nullable = true)\n",
      " |-- SecurityDelay: string (nullable = true)\n",
      " |-- LateAircraftDelay: string (nullable = true)\n",
      "\n",
      "+-------+-------+-----------------+------------------+------------------+-----------------+------------------------+------------------+-----------------+-------------+-----------------+-------+------------------+------------------+-------+-----------------+------------------+-------+-------+-----------------+------+-------+--------------------+----------------+--------------------+------------+------------+--------+-------------+-----------------+\n",
      "|summary|   Year|            Month|        DayofMonth|         DayOfWeek|          DepTime|scheduled_departure_time|           ArrTime|       CRSArrTime|UniqueCarrier|        FlightNum|TailNum| ActualElapsedTime|    CRSElapsedTime|AirTime|         ArrDelay|          DepDelay| Origin|   Dest|         Distance|TaxiIn|TaxiOut|           Cancelled|CancellationCode|            Diverted|CarrierDelay|WeatherDelay|NASDelay|SecurityDelay|LateAircraftDelay|\n",
      "+-------+-------+-----------------+------------------+------------------+-----------------+------------------------+------------------+-----------------+-------------+-----------------+-------+------------------+------------------+-------+-----------------+------------------+-------+-------+-----------------+------+-------+--------------------+----------------+--------------------+------------+------------+--------+-------------+-----------------+\n",
      "|  count|5180048|          5180048|           5180048|           5180048|          5113308|                 5180048|           5101202|          5180048|      5180048|          5180048|      0|           5101202|           5180048|      0|          5101202|           5113308|5180048|5180048|          5157099|     0|      0|             5180048|               0|             5180048|           0|           0|       0|            0|                0|\n",
      "|   mean| 1994.0|6.579943853802127|15.723382486031017|3.9516016067804776|1345.266130849149|      1338.6794068317513|1494.4365151585841|1495.874874904634|         null|920.2637743897354|   null|114.00258860558746|114.82526995888841|   null|5.662489742613603|  6.65992152242736|   null|   null|670.7402911985982|  null|   null|0.012884050495284986|            null|0.002337043981059635|        null|        null|    null|         null|             null|\n",
      "| stddev|    0.0|3.436720373974728| 8.788272360339112| 1.990238439719015|470.2242661138636|      463.61750114772207|   483.98495590428|472.6701494862161|         null|608.1342943927982|   null| 64.88861058427659| 64.20406191593771|   null|23.61815604081702|22.226297708488616|   null|   null|522.2696688890846|  null|   null| 0.11277435077764822|            null|0.048286464527841674|        null|        null|    null|         null|             null|\n",
      "|    min|   1994|                1|                 1|                 1|                1|                       1|                 1|                1|           AA|                1|   null|               -40|                -5|   null|             -115|              -109|    ABE|    ABE|               11|  null|   null|                   0|            null|                   0|        null|        null|    null|         null|             null|\n",
      "|    max|   1994|               12|                31|                 7|             2400|                    2400|              2400|             2400|           WN|             3599|   null|               740|               578|   null|             1313|              1439|    YAK|    YAK|             4502|  null|   null|                   1|            null|                   1|        null|        null|    null|         null|             null|\n",
      "+-------+-------+-----------------+------------------+------------------+-----------------+------------------------+------------------+-----------------+-------------+-----------------+-------+------------------+------------------+-------+-----------------+------------------+-------+-------+-----------------+------+-------+--------------------+----------------+--------------------+------------+------------+--------+-------------+-----------------+\n",
      "\n"
     ]
    }
   ],
   "source": [
    "df = (df\n",
    "          # change type of column CRSDepTime by casting its values to interger type\n",
    "          .withColumn('CRSDepTime', df.CRSDepTime.cast('int'))\n",
    "\n",
    "          # rename the column\n",
    "          .withColumnRenamed('CRSDepTime', 'scheduled_departure_time')\n",
    "    )\n",
    "\n",
    "# print schema of the current data\n",
    "df.printSchema()\n",
    "\n",
    "# run jobs to calculate basic statistic information and show it\n",
    "df.describe().show()"
   ]
  },
  {
   "cell_type": "markdown",
   "metadata": {},
   "source": [
    "### Constructing a DataFrame from an existing RDD\n",
    "\n",
    "Another way to construct a DataFrame is using data from an existing RDD. The main advantage of this approach is that it does not need a third party library. However, with this method, we have to remove the header ourself and provide a clear schema.\n",
    "\n"
   ]
  },
  {
   "cell_type": "code",
   "execution_count": 4,
   "metadata": {
    "collapsed": true
   },
   "outputs": [],
   "source": [
    "from pyspark.sql import SQLContext\n",
    "from pyspark.sql.types import *\n",
    "from pyspark.sql.functions import explode, split, desc, col, udf, round\n",
    "%matplotlib inline\n",
    "import matplotlib.pyplot as plt\n",
    "import matplotlib.colors as mcolors\n",
    "import pandas as pd\n",
    "import numpy as np\n",
    "import pyspark.sql.functions as func\n",
    "import matplotlib.patches as mpatches\n",
    "import seaborn as sns\n",
    "\n",
    "sqlContext = SQLContext(sc)\n",
    "\n",
    "data = sc.textFile('../datasets/airline/1994.csv')\n",
    "\n",
    "# extract the header\n",
    "header = data.first()\n",
    "\n",
    "# replace invalid data with NULL and remove header\n",
    "cleaned_data = (\n",
    "        data\n",
    "    \n",
    "        # filter out the header\n",
    "        .filter(lambda line: line != header)\n",
    "    \n",
    "         # replace the 'missing data' by empty value\n",
    "        .map(lambda line: ','.join(list(map(lambda x: x if x != 'NA' else '',line.split(',')))))\n",
    "    )\n",
    "\n",
    "airline_data_schema = StructType([ \\\n",
    "    #StructField( name, dataType, nullable)\n",
    "    StructField(\"year\",                     IntegerType(), True), \\\n",
    "    StructField(\"month\",                    IntegerType(), True), \\\n",
    "    StructField(\"day_of_month\",             IntegerType(), True), \\\n",
    "    StructField(\"day_of_week\",              IntegerType(), True), \\\n",
    "    StructField(\"departure_time\",           IntegerType(), True), \\\n",
    "    StructField(\"scheduled_departure_time\", IntegerType(), True), \\\n",
    "    StructField(\"arrival_time\",             IntegerType(), True), \\\n",
    "    StructField(\"scheduled_arrival_time\",   IntegerType(), True), \\\n",
    "    StructField(\"carrier\",                  StringType(),  True), \\\n",
    "    StructField(\"flight_number\",            StringType(),  True), \\\n",
    "    StructField(\"tail_number\",              StringType(), True), \\\n",
    "    StructField(\"actual_elapsed_time\",      IntegerType(), True), \\\n",
    "    StructField(\"scheduled_elapsed_time\",   IntegerType(), True), \\\n",
    "    StructField(\"air_time\",                 IntegerType(), True), \\\n",
    "    StructField(\"arrival_delay\",            IntegerType(), True), \\\n",
    "    StructField(\"departure_delay\",          IntegerType(), True), \\\n",
    "    StructField(\"src_airport\",              StringType(),  True), \\\n",
    "    StructField(\"dest_airport\",             StringType(),  True), \\\n",
    "    StructField(\"distance\",                 IntegerType(), True), \\\n",
    "    StructField(\"taxi_in_time\",             IntegerType(), True), \\\n",
    "    StructField(\"taxi_out_time\",            IntegerType(), True), \\\n",
    "    StructField(\"cancelled\",                StringType(),  True), \\\n",
    "    StructField(\"cancellation_code\",        StringType(),  True), \\\n",
    "    StructField(\"diverted\",                 StringType(),  True), \\\n",
    "    StructField(\"carrier_delay\",            IntegerType(), True), \\\n",
    "    StructField(\"weather_delay\",            IntegerType(), True), \\\n",
    "    StructField(\"nas_delay\",                IntegerType(), True), \\\n",
    "    StructField(\"security_delay\",           IntegerType(), True), \\\n",
    "    StructField(\"late_aircraft_delay\",      IntegerType(), True)\\\n",
    "])"
   ]
  },
  {
   "cell_type": "code",
   "execution_count": 5,
   "metadata": {
    "collapsed": true
   },
   "outputs": [],
   "source": [
    "# convert each line into a tuple of features (columns) with the corresponding data type\n",
    "cleaned_data_to_columns = (\n",
    "    cleaned_data.map(lambda l: l.split(\",\"))\n",
    "    .map(lambda cols: \n",
    "         (\n",
    "            int(cols[0])  if cols[0] else None,\n",
    "            int(cols[1])  if cols[1] else None,\n",
    "            int(cols[2])  if cols[2] else None,\n",
    "            int(cols[3])  if cols[3] else None,\n",
    "            int(cols[4])  if cols[4] else None,\n",
    "            int(cols[5])  if cols[5] else None,\n",
    "            int(cols[6])  if cols[6] else None,\n",
    "            int(cols[7])  if cols[7] else None,\n",
    "            cols[8]       if cols[8] else None,\n",
    "            cols[9]       if cols[9] else None,\n",
    "            cols[10]      if cols[10] else None,\n",
    "            int(cols[11]) if cols[11] else None,\n",
    "            int(cols[12]) if cols[12] else None,\n",
    "            int(cols[13]) if cols[13] else None,\n",
    "            int(cols[14]) if cols[14] else None,\n",
    "            int(cols[15]) if cols[15] else None,\n",
    "            cols[16]      if cols[16] else None,\n",
    "            cols[17]      if cols[17] else None,\n",
    "            int(cols[18]) if cols[18] else None,\n",
    "            int(cols[19]) if cols[19] else None,\n",
    "            int(cols[20]) if cols[20] else None,\n",
    "            cols[21]      if cols[21] else None,\n",
    "            cols[22]      if cols[22] else None,\n",
    "            cols[23]      if cols[23] else None,\n",
    "            int(cols[24]) if cols[24] else None,\n",
    "            int(cols[25]) if cols[25] else None,\n",
    "            int(cols[26]) if cols[26] else None,\n",
    "            int(cols[27]) if cols[27] else None,\n",
    "            int(cols[28]) if cols[28] else None\n",
    "         ))             \n",
    ")\n",
    "    \n",
    "# create dataframe\n",
    "df = sqlContext.createDataFrame(cleaned_data_to_columns, airline_data_schema)\\\n",
    "    .select(['year', 'month', 'day_of_month', 'day_of_week',\n",
    "            'scheduled_departure_time','scheduled_arrival_time',\n",
    "            'arrival_delay', 'distance', \n",
    "            'src_airport', 'dest_airport', 'carrier'])\\\n",
    "    .cache()"
   ]
  },
  {
   "cell_type": "markdown",
   "metadata": {},
   "source": [
    "### Examples\n",
    "\n",
    "Using the contructed DataFrame, we can answer some simple questions:\n",
    "\n",
    "<ul>\n",
    "<li>How many night flights do we have in our data?</li>\n",
    "<li>How many night flights per unique carrier?</li>\n",
    "</ul>\n",
    "\n",
    "<strong>NOTE:</strong> We define \"night\" to start at 6pm."
   ]
  },
  {
   "cell_type": "code",
   "execution_count": 9,
   "metadata": {
    "collapsed": true
   },
   "outputs": [
    {
     "data": {
      "text/plain": [
       "1078203"
      ]
     },
     "execution_count": 9,
     "metadata": {},
     "output_type": "execute_result"
    }
   ],
   "source": [
    "df[df.scheduled_departure_time > 1800].count()"
   ]
  },
  {
   "cell_type": "code",
   "execution_count": 10,
   "metadata": {
    "collapsed": true
   },
   "outputs": [
    {
     "data": {
      "text/plain": [
       "[Row(carrier=u'DL', count=208224),\n",
       " Row(carrier=u'US', count=170397),\n",
       " Row(carrier=u'AA', count=142832),\n",
       " Row(carrier=u'WN', count=124024),\n",
       " Row(carrier=u'UA', count=113640),\n",
       " Row(carrier=u'NW', count=100453),\n",
       " Row(carrier=u'CO', count=94501),\n",
       " Row(carrier=u'TW', count=54771),\n",
       " Row(carrier=u'HP', count=44351),\n",
       " Row(carrier=u'AS', count=25010)]"
      ]
     },
     "execution_count": 10,
     "metadata": {},
     "output_type": "execute_result"
    }
   ],
   "source": [
    "df[df.scheduled_departure_time > 1800].groupBy(df.carrier).count().orderBy('count', ascending=0).collect()"
   ]
  },
  {
   "cell_type": "markdown",
   "metadata": {},
   "source": [
    "# 3. Data exploration\n",
    "Next, we will go over a series of simple queries on our data, to perform exploration and compute statistics using the DataFrame API and SparkSQL. These queries directly map to the questions you need to answer. \n",
    "\n",
    "**NOTE:** finding the right question to ask is difficult! Don't be afraid to complement the questions below, with your own questions that, in your opinion, are valuable ways to inspect data. This can give you extra points!\n",
    "\n",
    "- Basic queries:\n",
    "  - How many unique origin airports?\n",
    "  - How many unique destination airports?\n",
    "  - How many carriers?\n",
    "  - How many flights that have a scheduled departure time later than 18h00?\n",
    "\n",
    "\n",
    "- Statistics on flight volume: this kind of statistics are helpful to reason about delays. Indeed, it is plausible to assume that \"*the more flights in an airport, the higher the probability of delay*\".\n",
    "  - How many flights in each month of the year?\n",
    "  - Is there any relationship between the number of flights and the days of week?\n",
    "  - How many flights in different days of months and in different hours of days?\n",
    "  - Which are the top 20 busiest airports (this depends on inbound and outbound traffic)?\n",
    "  - Which are the top 20 busiest carriers?\n",
    "\n",
    "\n",
    "- Statistics on the fraction of delayed flights\n",
    "  - What is the percentage of delayed flights (over total flights) for different hours of the day?\n",
    "  - Which hours of the day are characterized by the longest flight delay?\n",
    "  - What are the fluctuation of the percentage of delayed flights over different time granularities?\n",
    "  - What is the percentage of delayed flights which depart from one of the top 20 busiest airports?\n",
    "  - What is the percentage of delayed flights which belong to one of the top 20 busiest carriers?"
   ]
  },
  {
   "cell_type": "code",
   "execution_count": 9,
   "metadata": {},
   "outputs": [
    {
     "data": {
      "text/plain": [
       "DataFrame[summary: string, year: string, month: string, day_of_month: string, day_of_week: string, scheduled_departure_time: string, scheduled_arrival_time: string, arrival_delay: string, distance: string, src_airport: string, dest_airport: string, carrier: string]"
      ]
     },
     "execution_count": 9,
     "metadata": {},
     "output_type": "execute_result"
    }
   ],
   "source": [
    "df.describe()"
   ]
  },
  {
   "cell_type": "markdown",
   "metadata": {},
   "source": [
    "## Question 2: Basic queries\n",
    "\n",
    "### Question 2.1\n",
    "<div class=\"alert alert-info\">\n",
    "\n",
    "How many origin airports? How many destination airports? Discuss the results, indicating any discrepancies or strange facts about the data.\n",
    "\n",
    "</div>"
   ]
  },
  {
   "cell_type": "code",
   "execution_count": 11,
   "metadata": {},
   "outputs": [
    {
     "name": "stdout",
     "output_type": "stream",
     "text": [
      "There are 224 origin airports\n",
      "There are 225 destination airports\n"
     ]
    }
   ],
   "source": [
    "print \"There are\",len(df.groupBy(df.src_airport).count().collect()), \"origin airports\"\n",
    "print \"There are\",len(df.groupBy(df.dest_airport).count().collect()), \"destination airports\""
   ]
  },
  {
   "cell_type": "markdown",
   "metadata": {},
   "source": [
    "Does this mean there is one destination airport that planes never take off? And also in total how many distinct airports are there?"
   ]
  },
  {
   "cell_type": "markdown",
   "metadata": {},
   "source": [
    "Berkay: HELP! these have to be joined together to see what that 225th airport is."
   ]
  },
  {
   "cell_type": "code",
   "execution_count": 12,
   "metadata": {},
   "outputs": [
    {
     "name": "stdout",
     "output_type": "stream",
     "text": [
      "Most Favorite flight routes:\n"
     ]
    },
    {
     "data": {
      "text/plain": [
       "[Row(src_airport=u'SFO', dest_airport=u'LAX', count=17526),\n",
       " Row(src_airport=u'LAX', dest_airport=u'SFO', count=17428),\n",
       " Row(src_airport=u'LAX', dest_airport=u'PHX', count=13303),\n",
       " Row(src_airport=u'PHX', dest_airport=u'LAX', count=13250),\n",
       " Row(src_airport=u'ORD', dest_airport=u'MSP', count=13231),\n",
       " Row(src_airport=u'MSP', dest_airport=u'ORD', count=13149),\n",
       " Row(src_airport=u'LAX', dest_airport=u'LAS', count=13056),\n",
       " Row(src_airport=u'LAS', dest_airport=u'LAX', count=12644),\n",
       " Row(src_airport=u'PHX', dest_airport=u'LAS', count=11593),\n",
       " Row(src_airport=u'LAS', dest_airport=u'PHX', count=11375)]"
      ]
     },
     "metadata": {},
     "output_type": "display_data"
    },
    {
     "name": "stdout",
     "output_type": "stream",
     "text": [
      "Least Favorite flight routes:\n"
     ]
    },
    {
     "data": {
      "text/plain": [
       "[Row(src_airport=u'PHX', dest_airport=u'PSP', count=1),\n",
       " Row(src_airport=u'MSP', dest_airport=u'LAN', count=1),\n",
       " Row(src_airport=u'LIT', dest_airport=u'SAT', count=1),\n",
       " Row(src_airport=u'ONT', dest_airport=u'SNA', count=1),\n",
       " Row(src_airport=u'JFK', dest_airport=u'LGA', count=1),\n",
       " Row(src_airport=u'OKC', dest_airport=u'SAT', count=1),\n",
       " Row(src_airport=u'IAD', dest_airport=u'JFK', count=1),\n",
       " Row(src_airport=u'ONT', dest_airport=u'LGB', count=1),\n",
       " Row(src_airport=u'MSP', dest_airport=u'HNL', count=1),\n",
       " Row(src_airport=u'IND', dest_airport=u'IAD', count=1)]"
      ]
     },
     "metadata": {},
     "output_type": "display_data"
    }
   ],
   "source": [
    "print \"Most Favorite flight routes:\"\n",
    "display(df.groupBy(df.src_airport, df.dest_airport).count().orderBy('count', ascending=0).limit(10).collect())\n",
    "\n",
    "print \"Least Favorite flight routes:\"\n",
    "display(df.groupBy(df.src_airport, df.dest_airport).count().orderBy('count', ascending=1).limit(10).collect())\n"
   ]
  },
  {
   "cell_type": "markdown",
   "metadata": {},
   "source": [
    "### Question 2.2\n",
    "\n",
    "<div class=\"alert alert-info\">\n",
    "How many unique carriers are present in the data?\n",
    "</div>"
   ]
  },
  {
   "cell_type": "code",
   "execution_count": 25,
   "metadata": {},
   "outputs": [
    {
     "name": "stdout",
     "output_type": "stream",
     "text": [
      "Method 1: Using group by results:\n",
      "There are 10 distinct carriers\n",
      "Which are: \n",
      "UA\n",
      "AA\n",
      "NW\n",
      "HP\n",
      "TW\n",
      "DL\n",
      "US\n",
      "AS\n",
      "CO\n",
      "WN\n",
      "\n",
      "Method 2: Using gdistinct select:\n",
      "There are 10 distinct carriers\n",
      "Which are: \n",
      "UA\n",
      "AA\n",
      "NW\n",
      "HP\n",
      "TW\n",
      "DL\n",
      "US\n",
      "AS\n",
      "CO\n",
      "WN\n"
     ]
    }
   ],
   "source": [
    "print 'Method 1: Using group by results:'\n",
    "print \"There are\",len(df.groupBy(df.carrier).count().collect()), \"distinct carriers\"\n",
    "print \"Which are: \"\n",
    "for row in df.groupBy(df.carrier).count().collect():\n",
    "    print sc.parallelize(row).collect()[0]\n",
    "    \n",
    "print '\\nMethod 2: Using gdistinct select:'\n",
    "print \"There are\",len(df.select('carrier').distinct().collect()), \"distinct carriers\"\n",
    "print \"Which are: \"\n",
    "for row in df.select('carrier').distinct().collect():\n",
    "    print sc.parallelize(row).collect()[0]"
   ]
  },
  {
   "cell_type": "markdown",
   "metadata": {},
   "source": [
    "### Question 2.3\n",
    "\n",
    "<div class=\"alert alert-info\">\n",
    "<ul>\n",
    "<li>How many night flights (that is, flights departing later than 6pm or earlier than 6am)?</li>\n",
    "<li>What is the percentage of night flights over the total volume of flights</li>\n",
    "</ul>\n",
    "\n",
    "<br>\n",
    "<br>\n",
    "<strong>NOTE:</strong> Here we're using a more refined definition of what is a night flight, than in our earlier examples.\n",
    "\n",
    "</div>"
   ]
  },
  {
   "cell_type": "code",
   "execution_count": 79,
   "metadata": {},
   "outputs": [
    {
     "name": "stdout",
     "output_type": "stream",
     "text": [
      "There are  1121918 night flights which is 21.6584479526 % of all flights!\n"
     ]
    }
   ],
   "source": [
    "nightflights = df[(df.scheduled_departure_time > 1800) | (df.scheduled_departure_time < 600)]\n",
    "print \"There are \" , nightflights.count() ,\"night flights which is\", 100 * nightflights.count() / float(df.count()), \"% of all flights!\""
   ]
  },
  {
   "cell_type": "code",
   "execution_count": 80,
   "metadata": {},
   "outputs": [
    {
     "name": "stdout",
     "output_type": "stream",
     "text": [
      "Example late night departure times:\n"
     ]
    },
    {
     "data": {
      "text/plain": [
       "[Row(scheduled_departure_time=2400),\n",
       " Row(scheduled_departure_time=2359),\n",
       " Row(scheduled_departure_time=2357),\n",
       " Row(scheduled_departure_time=2356),\n",
       " Row(scheduled_departure_time=2355),\n",
       " Row(scheduled_departure_time=2354),\n",
       " Row(scheduled_departure_time=2352),\n",
       " Row(scheduled_departure_time=2350),\n",
       " Row(scheduled_departure_time=2345),\n",
       " Row(scheduled_departure_time=2344)]"
      ]
     },
     "metadata": {},
     "output_type": "display_data"
    },
    {
     "name": "stdout",
     "output_type": "stream",
     "text": [
      "\n",
      "Example early morning departure times:(still earlier than 06:00)\n"
     ]
    },
    {
     "data": {
      "text/plain": [
       "[Row(scheduled_departure_time=1),\n",
       " Row(scheduled_departure_time=2),\n",
       " Row(scheduled_departure_time=4),\n",
       " Row(scheduled_departure_time=5),\n",
       " Row(scheduled_departure_time=6),\n",
       " Row(scheduled_departure_time=7),\n",
       " Row(scheduled_departure_time=10),\n",
       " Row(scheduled_departure_time=11),\n",
       " Row(scheduled_departure_time=12),\n",
       " Row(scheduled_departure_time=15)]"
      ]
     },
     "metadata": {},
     "output_type": "display_data"
    }
   ],
   "source": [
    "print \"Example late night departure times:\"\n",
    "display(nightflights.select('scheduled_departure_time').distinct().orderBy('scheduled_departure_time', ascending=0).limit(10).collect())\n",
    "\n",
    "print \"\\nExample early morning departure times:(still earlier than 06:00)\"\n",
    "\n",
    "display(nightflights.select('scheduled_departure_time').distinct().orderBy('scheduled_departure_time', ascending=1).limit(10).collect())"
   ]
  },
  {
   "cell_type": "markdown",
   "metadata": {},
   "source": [
    "## Question 3: Flight volume statistics\n",
    "\n",
    "### Question 3.1: \n",
    "\n",
    "<div class=\"alert alert-info\">\n",
    "How many flights in each month of the year? Plot the changes over months by a line chart and comment the figure.\n",
    "\n",
    "<br>\n",
    "From the result, we can learn the dynamics of flight volume over months. For example, if we only consider flights in 1994 (to start, it's always better to focus on smaller amount of data), we can discuss about which months are most likely to have flights experiencing delays.\n",
    "</div>\n"
   ]
  },
  {
   "cell_type": "code",
   "execution_count": 42,
   "metadata": {},
   "outputs": [
    {
     "data": {
      "text/plain": [
       "[Row(month=1, count=423861),\n",
       " Row(month=2, count=386954),\n",
       " Row(month=3, count=435516),\n",
       " Row(month=4, count=420995),\n",
       " Row(month=5, count=436432),\n",
       " Row(month=6, count=426490),\n",
       " Row(month=7, count=443736),\n",
       " Row(month=8, count=451086),\n",
       " Row(month=9, count=430861),\n",
       " Row(month=10, count=449369),\n",
       " Row(month=11, count=428227),\n",
       " Row(month=12, count=446521)]"
      ]
     },
     "execution_count": 42,
     "metadata": {},
     "output_type": "execute_result"
    }
   ],
   "source": [
    "df.groupBy(df.month).count().orderBy('month', ascending=1).collect()"
   ]
  },
  {
   "cell_type": "code",
   "execution_count": 6,
   "metadata": {},
   "outputs": [
    {
     "data": {
      "image/png": "[encoded data removed]",
      "text/plain": [
       "<Figure size 864x576 with 1 Axes>"
      ]
     },
     "metadata": {},
     "output_type": "display_data"
    }
   ],
   "source": [
    "import calendar\n",
    "fig, ax = plt.subplots(figsize=(12, 8))\n",
    "style = dict(size=12, color='black', rotation=45)\n",
    "\n",
    "\n",
    "indices = []\n",
    "frequencies = []\n",
    "\n",
    "for row in df.groupBy(df.month).count().orderBy('month', ascending=1).collect():\n",
    "    frequencies.append(row[1])\n",
    "    indices.append(calendar.month_name[row[0]])\n",
    "    ax.text(calendar.month_name[row[0]], row[1]+6000, str('-->'+ str(row[1])), **style)\n",
    "\n",
    "plt.bar(indices,frequencies, align=\"center\")\n",
    "axes = plt.gca()\n",
    "axes.set_ylim([380000,455000])\n",
    "plt.title(\"Number of flights each month\")\n",
    "plt.xlabel(\"Month of the year\")\n",
    "plt.ylabel(\"Flight Amount\")\n",
    "plt.show()"
   ]
  },
  {
   "cell_type": "code",
   "execution_count": 7,
   "metadata": {},
   "outputs": [],
   "source": [
    "two_yeardata = frequencies[:]\n",
    "two_yeardata.extend(frequencies)\n",
    "two_yearindices = indices[:]\n",
    "two_yearindices.extend(indices)\n",
    "\n",
    "for idx in range(len(two_yearindices)):\n",
    "    if(idx<12):\n",
    "        two_yearindices[idx] = two_yearindices[idx] + str(1)\n",
    "    if(idx>=12):\n",
    "        two_yearindices[idx] = two_yearindices[idx] + str(2)"
   ]
  },
  {
   "cell_type": "code",
   "execution_count": 14,
   "metadata": {},
   "outputs": [
    {
     "data": {
      "image/png": "[encoded data removed]",
      "text/plain": [
       "<Figure size 2160x576 with 1 Axes>"
      ]
     },
     "metadata": {},
     "output_type": "display_data"
    }
   ],
   "source": [
    "fig, ax = plt.subplots(figsize=(30, 8))\n",
    "style = dict(size=12, color='black', rotation=45)\n",
    "\n",
    "plt.plot(two_yearindices,two_yeardata)\n",
    "plt.show()"
   ]
  },
  {
   "cell_type": "markdown",
   "metadata": {},
   "source": [
    "### Question 3.2: \n",
    "\n",
    "<div class=\"alert alert-info\">\n",
    "Is there any relationship between the number of flights and the days of the week?  \n",
    "\n",
    "Plot a bar chart and interpret the figure.\n",
    "\n",
    "<br>\n",
    "<br>\n",
    "<strong>NOTE:</strong> You should study both global aggregates (irrespectively of the month of the year), and monthly aggregates (day statistics, for each different month of the year).\n",
    "\n",
    "<br>\n",
    "<br>\n",
    "By answering this question, we could learn about the importance of the weekend/weekday feature for our predictive task.\n",
    "</div>"
   ]
  },
  {
   "cell_type": "code",
   "execution_count": 36,
   "metadata": {},
   "outputs": [
    {
     "data": {
      "text/plain": [
       "[Row(day_of_week=1, count=754636),\n",
       " Row(day_of_week=2, count=756532),\n",
       " Row(day_of_week=3, count=756864),\n",
       " Row(day_of_week=4, count=751537),\n",
       " Row(day_of_week=5, count=751531),\n",
       " Row(day_of_week=6, count=695245),\n",
       " Row(day_of_week=7, count=713703)]"
      ]
     },
     "execution_count": 36,
     "metadata": {},
     "output_type": "execute_result"
    }
   ],
   "source": [
    "df.groupBy(df.day_of_week).count().orderBy('day_of_week', ascending=1).collect()"
   ]
  },
  {
   "cell_type": "code",
   "execution_count": 72,
   "metadata": {},
   "outputs": [
    {
     "data": {
      "image/png": "[encoded data removed]",
      "text/plain": [
       "<Figure size 1008x504 with 1 Axes>"
      ]
     },
     "metadata": {},
     "output_type": "display_data"
    }
   ],
   "source": [
    "import calendar\n",
    "fig, ax = plt.subplots(figsize=(14, 7))\n",
    "style = dict(size=12, color='black', rotation=45)\n",
    "\n",
    "\n",
    "indices = []\n",
    "frequencies = []\n",
    "\n",
    "for row in df.groupBy(df.day_of_week).count().orderBy('day_of_week', ascending=1).collect():\n",
    "    frequencies.append(row[1])\n",
    "    indices.append(calendar.day_name[row[0]-1])\n",
    "    ax.text(calendar.day_name[row[0]-1], row[1]+9000, str('-->'+ str(row[1])), **style)\n",
    "\n",
    "plt.bar(indices,frequencies, align=\"center\")\n",
    "axes = plt.gca()\n",
    "axes.set_ylim([690000,780000])\n",
    "plt.title(\"Number of flights each day of the week\")\n",
    "plt.xlabel(\"Day of the week\")\n",
    "plt.ylabel(\"Flight Amount\")\n",
    "plt.show()"
   ]
  },
  {
   "cell_type": "code",
   "execution_count": 71,
   "metadata": {},
   "outputs": [
    {
     "data": {
      "text/plain": [
       "[Row(month=1, day_of_week=1, count=70761),\n",
       " Row(month=1, day_of_week=2, count=56327),\n",
       " Row(month=1, day_of_week=3, count=55944),\n",
       " Row(month=1, day_of_week=4, count=55870),\n",
       " Row(month=1, day_of_week=5, count=56041),\n",
       " Row(month=1, day_of_week=6, count=62488),\n",
       " Row(month=1, day_of_week=7, count=66430),\n",
       " Row(month=2, day_of_week=1, count=56645),\n",
       " Row(month=2, day_of_week=2, count=56549),\n",
       " Row(month=2, day_of_week=3, count=56460),\n",
       " Row(month=2, day_of_week=4, count=56421),\n",
       " Row(month=2, day_of_week=5, count=56823),\n",
       " Row(month=2, day_of_week=6, count=50611),\n",
       " Row(month=2, day_of_week=7, count=53445),\n",
       " Row(month=3, day_of_week=1, count=57356),\n",
       " Row(month=3, day_of_week=2, count=71424),\n",
       " Row(month=3, day_of_week=3, count=71900),\n",
       " Row(month=3, day_of_week=4, count=71942),\n",
       " Row(month=3, day_of_week=5, count=57400),\n",
       " Row(month=3, day_of_week=6, count=51347),\n",
       " Row(month=3, day_of_week=7, count=54147),\n",
       " Row(month=4, day_of_week=1, count=57555),\n",
       " Row(month=4, day_of_week=2, count=57514),\n",
       " Row(month=4, day_of_week=3, count=57596),\n",
       " Row(month=4, day_of_week=4, count=57462),\n",
       " Row(month=4, day_of_week=5, count=71867),\n",
       " Row(month=4, day_of_week=6, count=64479),\n",
       " Row(month=4, day_of_week=7, count=54522),\n",
       " Row(month=5, day_of_week=1, count=71779),\n",
       " Row(month=5, day_of_week=2, count=72528),\n",
       " Row(month=5, day_of_week=3, count=57912),\n",
       " Row(month=5, day_of_week=4, count=57555),\n",
       " Row(month=5, day_of_week=5, count=57921),\n",
       " Row(month=5, day_of_week=6, count=51325),\n",
       " Row(month=5, day_of_week=7, count=67412),\n",
       " Row(month=6, day_of_week=1, count=57869),\n",
       " Row(month=6, day_of_week=2, count=57941),\n",
       " Row(month=6, day_of_week=3, count=72646),\n",
       " Row(month=6, day_of_week=4, count=72303),\n",
       " Row(month=6, day_of_week=5, count=57358),\n",
       " Row(month=6, day_of_week=6, count=53103),\n",
       " Row(month=6, day_of_week=7, count=55270),\n",
       " Row(month=7, day_of_week=1, count=58007),\n",
       " Row(month=7, day_of_week=2, count=58747),\n",
       " Row(month=7, day_of_week=3, count=58712),\n",
       " Row(month=7, day_of_week=4, count=58511),\n",
       " Row(month=7, day_of_week=5, count=72943),\n",
       " Row(month=7, day_of_week=6, count=67453),\n",
       " Row(month=7, day_of_week=7, count=69363),\n",
       " Row(month=8, day_of_week=1, count=74148),\n",
       " Row(month=8, day_of_week=2, count=74027),\n",
       " Row(month=8, day_of_week=3, count=73949),\n",
       " Row(month=8, day_of_week=4, count=59033),\n",
       " Row(month=8, day_of_week=5, count=58819),\n",
       " Row(month=8, day_of_week=6, count=54495),\n",
       " Row(month=8, day_of_week=7, count=56615),\n",
       " Row(month=9, day_of_week=1, count=58213),\n",
       " Row(month=9, day_of_week=2, count=59149),\n",
       " Row(month=9, day_of_week=3, count=59043),\n",
       " Row(month=9, day_of_week=4, count=73632),\n",
       " Row(month=9, day_of_week=5, count=73489),\n",
       " Row(month=9, day_of_week=6, count=52843),\n",
       " Row(month=9, day_of_week=7, count=54492),\n",
       " Row(month=10, day_of_week=1, count=74019),\n",
       " Row(month=10, day_of_week=2, count=59304),\n",
       " Row(month=10, day_of_week=3, count=59609),\n",
       " Row(month=10, day_of_week=4, count=59509),\n",
       " Row(month=10, day_of_week=5, count=59323),\n",
       " Row(month=10, day_of_week=6, count=67303),\n",
       " Row(month=10, day_of_week=7, count=70302),\n",
       " Row(month=11, day_of_week=1, count=59107),\n",
       " Row(month=11, day_of_week=2, count=73884),\n",
       " Row(month=11, day_of_week=3, count=74128),\n",
       " Row(month=11, day_of_week=4, count=55510),\n",
       " Row(month=11, day_of_week=5, count=55796),\n",
       " Row(month=11, day_of_week=6, count=53409),\n",
       " Row(month=11, day_of_week=7, count=56393),\n",
       " Row(month=12, day_of_week=1, count=59177),\n",
       " Row(month=12, day_of_week=2, count=59138),\n",
       " Row(month=12, day_of_week=3, count=58965),\n",
       " Row(month=12, day_of_week=4, count=73789),\n",
       " Row(month=12, day_of_week=5, count=73751),\n",
       " Row(month=12, day_of_week=6, count=66389),\n",
       " Row(month=12, day_of_week=7, count=55312)]"
      ]
     },
     "execution_count": 71,
     "metadata": {},
     "output_type": "execute_result"
    }
   ],
   "source": [
    "#Start of monthly processing\n",
    "df.groupBy(df.month, df.day_of_week).count().orderBy('month','day_of_week' , ascending=1).collect()"
   ]
  },
  {
   "cell_type": "markdown",
   "metadata": {},
   "source": [
    "### Question 3.3\n",
    "\n",
    "<div class=\"alert alert-info\">\n",
    "How many flights in different days of months and in different hours of days?  \n",
    "<br>\n",
    "<br>\n",
    "\n",
    "<strong>NOTE:</strong> Similarly to the previous note, you need to compute both global statistcs and monthly statistics.\n",
    "\n",
    "<br>\n",
    "<br>\n",
    "Plot  bar charts, and interpret your figures.\n",
    "</div>"
   ]
  },
  {
   "cell_type": "code",
   "execution_count": 76,
   "metadata": {},
   "outputs": [
    {
     "data": {
      "text/plain": [
       "[Row(day_of_month=1, count=169674),\n",
       " Row(day_of_month=2, count=169829),\n",
       " Row(day_of_month=3, count=168678),\n",
       " Row(day_of_month=4, count=169399),\n",
       " Row(day_of_month=5, count=168423),\n",
       " Row(day_of_month=6, count=170650),\n",
       " Row(day_of_month=7, count=172210),\n",
       " Row(day_of_month=8, count=170674),\n",
       " Row(day_of_month=9, count=170077),\n",
       " Row(day_of_month=10, count=170252),\n",
       " Row(day_of_month=11, count=172362),\n",
       " Row(day_of_month=12, count=169542),\n",
       " Row(day_of_month=13, count=171230),\n",
       " Row(day_of_month=14, count=172081),\n",
       " Row(day_of_month=15, count=170737),\n",
       " Row(day_of_month=16, count=169985),\n",
       " Row(day_of_month=17, count=170132),\n",
       " Row(day_of_month=18, count=171868),\n",
       " Row(day_of_month=19, count=169483),\n",
       " Row(day_of_month=20, count=171142),\n",
       " Row(day_of_month=21, count=172283),\n",
       " Row(day_of_month=22, count=171305),\n",
       " Row(day_of_month=23, count=170695),\n",
       " Row(day_of_month=24, count=166379),\n",
       " Row(day_of_month=25, count=167435),\n",
       " Row(day_of_month=26, count=168767),\n",
       " Row(day_of_month=27, count=171222),\n",
       " Row(day_of_month=28, count=171760),\n",
       " Row(day_of_month=29, count=155695),\n",
       " Row(day_of_month=30, count=155915),\n",
       " Row(day_of_month=31, count=100164)]"
      ]
     },
     "execution_count": 76,
     "metadata": {},
     "output_type": "execute_result"
    }
   ],
   "source": [
    "df.groupBy(df.day_of_month).count().orderBy('day_of_month' , ascending=1).head(50)"
   ]
  },
  {
   "cell_type": "code",
   "execution_count": 93,
   "metadata": {},
   "outputs": [
    {
     "data": {
      "image/png": "[encoded data removed]",
      "text/plain": [
       "<Figure size 2160x720 with 1 Axes>"
      ]
     },
     "metadata": {},
     "output_type": "display_data"
    }
   ],
   "source": [
    "fig, ax = plt.subplots(figsize=(30, 10))\n",
    "style = dict(size=12, color='black', rotation=45)\n",
    "\n",
    "\n",
    "indices = []\n",
    "frequencies = []\n",
    "\n",
    "for row in df.groupBy(df.day_of_month).count().orderBy('day_of_month' , ascending=1).collect():\n",
    "    frequencies.append(row[1])\n",
    "    indices.append(row[0])\n",
    "    ax.text(row[0], row[1]+7000, str('-->'+ str(row[1])), **style)\n",
    "\n",
    "plt.bar(indices,frequencies, align=\"center\")\n",
    "axes = plt.gca()\n",
    "axes.set_ylim([90000,180000])\n",
    "plt.title(\"Number of flights each day of the month\")\n",
    "plt.xlabel(\"Day of the month\")\n",
    "plt.ylabel(\"Flight Amount\")\n",
    "plt.show()"
   ]
  },
  {
   "cell_type": "markdown",
   "metadata": {},
   "source": [
    "### Question 3.4\n",
    "\n",
    "<div class=\"alert alert-info\">\n",
    "Which are the **top 20** busiest airports? Compute this in terms of the inbound, outbound and total number of flights.\n",
    "</div>"
   ]
  },
  {
   "cell_type": "markdown",
   "metadata": {},
   "source": [
    "### Question 3.5\n",
    "<div class=\"alert alert-info\">\n",
    "Which are the **top 20** busiest carriers? Compute this in terms of number of flights.\n",
    "</div>\n"
   ]
  },
  {
   "cell_type": "markdown",
   "metadata": {},
   "source": [
    "## Question 4 \n",
    "In this series of questions we focus on the computation of statistics about the percentage of delayed flights.\n",
    "\n",
    "### Question 4.1\n",
    "<div class=\"alert alert-info\">\n",
    "What is the percentage of delayed flights for different hours of the day?  \n",
    "\n",
    "Plot a bar chart and interpret the figure.  \n",
    "\n",
    "\n",
    "<div class=\"label label-success\">IMPORTANT!</div> A flight is considered as delayed if it's actual arrival time is more than 15 minutes later than the scheduled arrival time.\n",
    "\n",
    "</div>"
   ]
  },
  {
   "cell_type": "markdown",
   "metadata": {},
   "source": [
    "### Question 4.2\n",
    "<div class=\"alert alert-info\">\n",
    "You will realize that saying *\"at 4 A.M. there is a very low chance of a flight being delayed\"* is not giving you a full picture of the situation. Indeed, it might be true that there is very little probability for an early flight to be delayed, but if it does, the delay might be huge, like 6 hours!  \n",
    "\n",
    "<ul></ul>\n",
    "\n",
    "Then, the question is: **which hours of the day are characterized by the largest mean delay?** (you can consider the median too)  \n",
    "\n",
    "Plot a Bar chart and explain it.  \n",
    "\n",
    "</div>"
   ]
  },
  {
   "cell_type": "markdown",
   "metadata": {},
   "source": [
    "With data of year 1994, the flight from 3AM to 4AM often depart earlier than in their schedule. The flights in the morning have less delay then in the afternoon and evening.\n",
    "\n",
    "So, an attentive student should notice here that we have somehow a problem with the definition of delay! Next, we will improve how to represent and visualize data to overcome this problem.\n",
    "\n",
    "**NOTE**: the following piece of code assumes you correctly answered the previous questions. The naming convention of the DataFrames we use next should be clear enough for you to produce them by answering the questions above."
   ]
  },
  {
   "cell_type": "code",
   "execution_count": null,
   "metadata": {
    "collapsed": true
   },
   "outputs": [],
   "source": [
    "#pdf2 = pd.DataFrame(data=mean_delay_per_hour.collect())\n",
    "plt.xlabel(\"Hours\")\n",
    "plt.ylabel(\"Ratio of delay\")\n",
    "plt.title('Figure 6: The radio of delay over hours in day')\n",
    "plt.grid(True,which=\"both\",ls=\"-\")\n",
    "bars = plt.bar(pdf_delay_ratio_per_hour[0], pdf_delay_ratio_per_hour[1], align='center', edgecolor = \"black\")\n",
    "for i in range(0, len(bars)):\n",
    "    color = 'red'\n",
    "    if pdf_mean_delay_per_hour[1][i] < 0:\n",
    "        color = 'lightgreen'\n",
    "    elif pdf_mean_delay_per_hour[1][i] < 2:\n",
    "        color = 'green'\n",
    "    elif pdf_mean_delay_per_hour[1][i] < 4:\n",
    "        color = 'yellow'\n",
    "    elif pdf_mean_delay_per_hour[1][i] < 8:\n",
    "        color = 'orange'\n",
    "\n",
    "    bars[i].set_color(color)\n",
    "        \n",
    "patch1 = mpatches.Patch(color='lightgreen', label='Depart earlier')\n",
    "patch2 = mpatches.Patch(color='green', label='delay < 2 minutes')\n",
    "patch3 = mpatches.Patch(color='yellow', label='delay < 4 minutes')\n",
    "patch4 = mpatches.Patch(color='orange', label='delay < 8 minutes')\n",
    "patch5 = mpatches.Patch(color='red', label='delay >= 8 minutes')\n",
    "\n",
    "plt.legend(handles=[patch1, patch2, patch3, patch4, patch5], bbox_to_anchor=(1.05, 1), loc=2, borderaxespad=0.)\n",
    "plt.margins(0.05, 0)\n",
    "plt.show()"
   ]
  },
  {
   "cell_type": "markdown",
   "metadata": {},
   "source": [
    "In the new figure (Figure 6), we have more information in a single plot. The flights in 3AM to 4AM have very low probability of being delayed, and actually depart earlier than their schedule. In contrast, the flights in the 4PM to 8PM range have higher chances of being delayed: in more than 50% of the cases, the delay is 8 minutes or more.\n",
    "\n",
    "This example shows us that the way representing results are also important.\n"
   ]
  },
  {
   "cell_type": "markdown",
   "metadata": {},
   "source": [
    "### Question 4.3\n",
    "\n",
    "<div class=\"alert alert-info\">\n",
    "Plot a bar chart to show the percentage of delayed flights over days in a month. Discuss your findings from the figure.\n",
    "</div>"
   ]
  },
  {
   "cell_type": "markdown",
   "metadata": {},
   "source": [
    "### Question 4.4\n",
    "\n",
    "<div class=\"alert alert-info\">\n",
    "Plot a bar chart to show the percentage of delayed flights over days in a week. Discuss your findings from the figure.\n",
    "</div>"
   ]
  },
  {
   "cell_type": "markdown",
   "metadata": {},
   "source": [
    "### Question 4.5\n",
    "<div class=\"alert alert-info\">\n",
    "Plot a bar chart to show the percentage of delayed flights over months in a year. Discuss your findings from the figure.\n",
    "</div>"
   ]
  },
  {
   "cell_type": "markdown",
   "metadata": {},
   "source": [
    "We are ready now to draw some observations from our data, even if we have only looked at data coming from a year worth of flights:\n",
    "\n",
    "- The probability for a flight to be delayed is low at the beginning or at the very end of a given months\n",
    "- Flights on two first weekdays and on the weekend, are less likely to be delayed\n",
    "- May and September are very good months for travelling, as the probability of delay is low (remember we're working on US data. Do you think this is also true in France?)\n",
    "\n",
    "Putting things together, we can have a global picture of the whole year!"
   ]
  },
  {
   "cell_type": "code",
   "execution_count": null,
   "metadata": {
    "collapsed": true
   },
   "outputs": [],
   "source": [
    "df_with_delay = df.withColumn('is_delay', when(df[\"arrival_delay\"] >= 15, 1).otherwise(0))\n",
    "statistic_day = df_with_delay.groupBy(['year','month', 'day_of_month', 'day_of_week'])\\\n",
    "    .agg((func.sum('is_delay')/func.count('*')).alias('delay_ratio'))\n",
    "\n",
    "# assume that we do statistic on year 1994\n",
    "statistic_day = statistic_day\\\n",
    "    .orderBy('year', 'month', 'day_of_month', 'day_of_week')\n",
    "pdf = pd.DataFrame(data=statistic_day.collect())"
   ]
  },
  {
   "cell_type": "code",
   "execution_count": null,
   "metadata": {
    "collapsed": true
   },
   "outputs": [],
   "source": [
    "fig = plt.figure(figsize=(20,10))                                                             \n",
    "ax = fig.add_subplot(1,1,1)     \n",
    "plt.xlabel(\"Weeks/Months in year\")\n",
    "plt.ylabel(\"Day of weeks (1:Monday -> 7 :Sunday)\")\n",
    "plt.title('Figure 10: The change of number flights over days in year')\n",
    "  \n",
    "rec_size = 0.3\n",
    "from matplotlib.patches import Rectangle\n",
    "import datetime\n",
    "num_days = len(pdf[0])\n",
    "ax.patch.set_facecolor('gray')\n",
    "ax.set_aspect('equal', 'box')\n",
    "ax.xaxis.set_major_locator(plt.NullLocator())\n",
    "ax.yaxis.set_major_locator(plt.NullLocator())\n",
    "\n",
    "for i in range(0, num_days):\n",
    "    # extract information from the result\n",
    "    year = pdf[0][i]\n",
    "    month = pdf[1][i]\n",
    "    day_of_month = pdf[2][i]\n",
    "    day_of_week = pdf[3][i]\n",
    "    day_of_year= datetime.date(year=year, month=month, day=day_of_month).timetuple()\n",
    "    week_of_year = datetime.date(year=year, month=month, day=day_of_month).isocalendar()[1]\n",
    "    \n",
    "    # dealing with the week of the previous year\n",
    "    if week_of_year == 52 and month == 1:\n",
    "        week_of_year = 0\n",
    "        \n",
    "    # the coordinate of a day in graph\n",
    "    X = week_of_year*rec_size\n",
    "    Y = day_of_week*rec_size\n",
    "    \n",
    "    # use different colors to show the delay ratio\n",
    "    color = 'white'\n",
    "    if pdf[4][i] <= 0.084:\n",
    "        color = 'lightyellow'\n",
    "    elif pdf[4][i] <= 0.117:\n",
    "        color = 'lightgreen'\n",
    "    elif pdf[4][i] <= 0.152:\n",
    "        color = 'gold'\n",
    "    elif pdf[4][i] <= 0.201:\n",
    "        color = 'orange'\n",
    "    else:\n",
    "        color = 'red'\n",
    "    rect = plt.Rectangle((X - rec_size/2.0, Y - rec_size/2.0), rec_size, rec_size,\n",
    "                      alpha=1, facecolor=color, edgecolor='whitesmoke')\n",
    "\n",
    "    ax.add_patch(rect)\n",
    "    \n",
    "    # drawing boders to separate months\n",
    "    if day_of_month <= 7:\n",
    "        rect2 = plt.Rectangle((X -rec_size/2.0, Y - rec_size/2.0), 0.01, rec_size,\n",
    "                      alpha=1, facecolor='black')\n",
    "        ax.add_patch(rect2)\n",
    "    if day_of_month == 1:\n",
    "        rect2 = plt.Rectangle((X - rec_size/2.0, Y - rec_size/2.0), rec_size, 0.01,\n",
    "                      alpha=1, facecolor='black')\n",
    "        ax.add_patch(rect2)\n",
    "ax.autoscale_view()\n",
    "\n",
    "patch1 = mpatches.Patch(color='lightyellow', label='delay ratio < 8.4%')\n",
    "patch2 = mpatches.Patch(color='lightgreen', label='delay ratio < 11.7%')\n",
    "patch3 = mpatches.Patch(color='gold', label='delay ratio < 15.2%')\n",
    "patch4 = mpatches.Patch(color='orange', label='delay ratio < 20.1%')\n",
    "patch5 = mpatches.Patch(color='red', label='delay ratio >= 20.1%')\n",
    "\n",
    "plt.legend(handles=[patch1, patch2, patch3, patch4, patch5], bbox_to_anchor=(1.05, 1), loc=2, borderaxespad=0.)\n",
    "\n",
    "plt.show()"
   ]
  },
  {
   "cell_type": "markdown",
   "metadata": {},
   "source": [
    "### Question 4.6\n",
    "<div class=\"alert alert-info\">\n",
    "\n",
    "What is the delay probability for the top 20 busiest airports?  \n",
    "\n",
    "\n",
    "By drawing the flight volume of each airport and the associated delay probability in a single plot, we can observe the relationship between airports, number of flights and the delay.  \n",
    "\n",
    "<div class=\"label label-success\">HINT </div>  Function `<df_colum>.isin(<list>)` helps checking whether a value in column belongs to a list.\n",
    "<ul></ul>\n",
    "<div class=\"label label-success\">SUGGESTION </div>  You can try with different chart type to have a better visualization.\n",
    "</div>"
   ]
  },
  {
   "cell_type": "markdown",
   "metadata": {},
   "source": [
    "### Question 4.7\n",
    "\n",
    "<div class=\"alert alert-info\">\n",
    "What is the percentage of delayed flights which belong to one of the top 20 busiest carriers?  \n",
    "Comment the figure!\n",
    "\n",
    "<ul></ul>\n",
    "<div class=\"label label-success\">SUGGESTION </div>  You can try with different chart type to have a better visualization.\n",
    "</div>"
   ]
  },
  {
   "cell_type": "markdown",
   "metadata": {},
   "source": [
    "## Addition (bonus) questions\n",
    "\n",
    "### Additional data\n",
    "In the HDFS file system you have used for running the Notebook, you will notice that there are several other years available (in addition to 1994).\n",
    "\n",
    "There are some other datasets that related to this use case:\n",
    "\n",
    "- Airport IATA Codes to City names and Coordinates mapping: http://stat-computing.org/dataexpo/2009/airports.csv\n",
    "- Carrier codes to Full name mapping: http://stat-computing.org/dataexpo/2009/carriers.csv\n",
    "- Information about individual planes: http://stat-computing.org/dataexpo/2009/plane-data.csv\n",
    "- Weather information: http://www.wunderground.com/weather/api/. You can subscribe for free to the developers' API and obtain (at a limited rate) historical weather information in many different formats. Also, to get an idea of the kind of information is available, you can use this link: http://www.wunderground.com/history/\n",
    "\n",
    "### Question 5.1\n",
    "\n",
    "<div class=\"alert alert-info\">\n",
    "\n",
    "Which airports are present in the dataset only as destination airport?\n",
    "\n",
    "Which airport is present only as source airport in the dataset? \n",
    "\n",
    "</div>\n",
    "\n",
    "### Question 5.2\n",
    "\n",
    "<div class=\"alert alert-info\">\n",
    "\n",
    "Which airports have biggest delay probability ?\n",
    "\n",
    "Which cities have largest delay duration in average ?\n",
    "\n",
    "</div>\n",
    "\n",
    "### Question 5.3\n",
    "\n",
    "<div class=\"alert alert-info\">\n",
    "\n",
    "Is there any relationship between weather condition and the delay of flights in 1994 ?\n",
    "\n",
    "</div>\n"
   ]
  }
 ],
 "metadata": {
  "kernelspec": {
   "display_name": "Python 2",
   "language": "python",
   "name": "python2"
  },
  "language_info": {
   "codemirror_mode": {
    "name": "ipython",
    "version": 2
   },
   "file_extension": ".py",
   "mimetype": "text/x-python",
   "name": "python",
   "nbconvert_exporter": "python",
   "pygments_lexer": "ipython2",
   "version": "2.7.15"
  }
 },
 "nbformat": 4,
 "nbformat_minor": 2
}
